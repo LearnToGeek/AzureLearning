{
    "metadata": {
        "kernelspec": {
            "name": "SQL",
            "display_name": "SQL",
            "language": "sql"
        },
        "language_info": {
            "name": "sql",
            "version": ""
        }
    },
    "nbformat_minor": 2,
    "nbformat": 4,
    "cells": [
        {
            "cell_type": "markdown",
            "source": [
                "# **Step 1 - Create a table and schema**\n",
                "\n",
                "First, we need to create a table and schema for our data to be loaded into. This is pretty straightforward, good old-fashioned T-SQL"
            ],
            "metadata": {
                "azdata_cell_guid": "8c489cce-9b57-466c-aa92-b265f887a863"
            }
        },
        {
            "cell_type": "code",
            "source": [
                "IF SCHEMA_ID('DataLoad') IS NULL\r\n",
                "EXEC ('CREATE SCHEMA DataLoad')\r\n",
                "\r\n",
                "Create table DataLoad.Employees\r\n",
                "(\r\n",
                "    ID varchar(20),\r\n",
                "    Name varchar(20),\r\n",
                "    Department varchar(50),\r\n",
                "    Email varchar(20)\r\n",
                ");"
            ],
            "metadata": {
                "azdata_cell_guid": "b55c777d-24d5-4a56-b5f4-5614a15aa7df"
            },
            "outputs": [
                {
                    "output_type": "error",
                    "ename": "",
                    "evalue": "Msg 2714, Level 16, State 6, Line 4\r\nThere is already an object named 'Employees' in the database.",
                    "traceback": []
                },
                {
                    "output_type": "display_data",
                    "data": {
                        "text/html": "Total execution time: 00:00:00.063"
                    },
                    "metadata": {}
                }
            ],
            "execution_count": 3
        },
        {
            "cell_type": "markdown",
            "source": [
                "# **Step 2 - Create MASTER KEY**\n",
                "\n",
                "Leveraging an exampe in the docs you learn that a MASTER KEY is required to create a DATABASE SCOPED CREDENTIAL since the blob storage in not configured to allow public access.\n",
                "\n",
                "So, let;s first create a MASTER KEY"
            ],
            "metadata": {
                "azdata_cell_guid": "fd786096-ad6d-4cfb-8646-0167008aaf81"
            }
        },
        {
            "cell_type": "code",
            "source": [
                "CREATE MASTER KEY\r\n",
                "ENCRYPTION BY PASSWORD='Geek@217@Mac';"
            ],
            "metadata": {
                "azdata_cell_guid": "fb91d85f-ed26-4db6-95e4-e4b45ba71eb9"
            },
            "outputs": [
                {
                    "output_type": "display_data",
                    "data": {
                        "text/html": "Commands completed successfully."
                    },
                    "metadata": {}
                },
                {
                    "output_type": "display_data",
                    "data": {
                        "text/html": "Total execution time: 00:00:00.145"
                    },
                    "metadata": {}
                }
            ],
            "execution_count": 1
        }
    ]
}